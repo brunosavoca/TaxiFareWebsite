{
  "nbformat": 4,
  "nbformat_minor": 0,
  "metadata": {
    "colab": {
      "private_outputs": true,
      "provenance": [],
      "include_colab_link": true
    },
    "kernelspec": {
      "name": "python3",
      "display_name": "Python 3"
    },
    "language_info": {
      "name": "python"
    }
  },
  "cells": [
    {
      "cell_type": "markdown",
      "metadata": {
        "id": "view-in-github",
        "colab_type": "text"
      },
      "source": [
        "<a href=\"https://colab.research.google.com/github/brunosavoca/TaxiFareWebsite/blob/main/Final_Project_.ipynb\" target=\"_parent\"><img src=\"https://colab.research.google.com/assets/colab-badge.svg\" alt=\"Open In Colab\"/></a>"
      ]
    },
    {
      "cell_type": "markdown",
      "source": [
        "\n",
        "# Problem definition: \n",
        "> \"Build a machine learning model to predict if an credit card applicant is 'good' or 'bad' client\"\n"
      ],
      "metadata": {
        "id": "zARXDVbTAgn0"
      }
    },
    {
      "cell_type": "markdown",
      "source": [
        "# Data preparation"
      ],
      "metadata": {
        "id": "031h0rcGBNI1"
      }
    },
    {
      "cell_type": "code",
      "source": [],
      "metadata": {
        "id": "0DyT7dfvBMHO"
      },
      "execution_count": null,
      "outputs": []
    },
    {
      "cell_type": "code",
      "source": [
        "import numpy as np\n",
        "import seaborn as sns\n",
        "import pandas as pd"
      ],
      "metadata": {
        "id": "uLwosJ8W3owx"
      },
      "execution_count": null,
      "outputs": []
    },
    {
      "cell_type": "code",
      "execution_count": null,
      "metadata": {
        "id": "A3ctwHPeul2U"
      },
      "outputs": [],
      "source": [
        "import pandas as pd\n",
        "\n",
        "app = pd.read_csv('card_application_record.csv')\n",
        "credit = pd.read_csv('card_credit_record.csv')"
      ]
    },
    {
      "cell_type": "code",
      "source": [
        "app.head(10)"
      ],
      "metadata": {
        "id": "ydsWOtDkvD6E"
      },
      "execution_count": null,
      "outputs": []
    },
    {
      "cell_type": "code",
      "source": [
        "credit.head(10)"
      ],
      "metadata": {
        "id": "lmmg5kRSvMyW"
      },
      "execution_count": null,
      "outputs": []
    },
    {
      "cell_type": "markdown",
      "source": [
        "C - 42%\n",
        "\n",
        "0 - 37%\n",
        "\n",
        "Other - 21%\n",
        "\n",
        "0: 1-29 days past due \n",
        "\n",
        "1: 30-59 days past due \n",
        "\n",
        "2: 60-89 days overdue \n",
        "\n",
        "3: 90-119 days overdue \n",
        "\n",
        "4: 120-149 days overdue \n",
        "\n",
        "5: Overdue or bad debts, write-offs for more than 150 days \n",
        "\n",
        "C: paid off that month \n",
        "\n",
        "X: No loan for the month"
      ],
      "metadata": {
        "id": "YmdUcSDwwcjI"
      }
    },
    {
      "cell_type": "code",
      "source": [
        "cards = pd.merge(app, credit, on='ID')"
      ],
      "metadata": {
        "id": "5RcYyNm2vOyV"
      },
      "execution_count": null,
      "outputs": []
    },
    {
      "cell_type": "code",
      "source": [
        "cards.head(10)"
      ],
      "metadata": {
        "id": "jSxg4RhBvecZ"
      },
      "execution_count": null,
      "outputs": []
    },
    {
      "cell_type": "markdown",
      "source": [
        "## Drop NaN"
      ],
      "metadata": {
        "id": "6Zompsx3-S9K"
      }
    },
    {
      "cell_type": "code",
      "source": [
        "# drop null values, axis=0\n",
        "cards.dropna(inplace=True)\n",
        "cards.shape"
      ],
      "metadata": {
        "id": "jcMNduwy9oEJ"
      },
      "execution_count": null,
      "outputs": []
    },
    {
      "cell_type": "markdown",
      "source": [
        "## Change and adjust some values"
      ],
      "metadata": {
        "id": "VB3pLdYP-WvV"
      }
    },
    {
      "cell_type": "code",
      "source": [
        "# replace some variables to better processing\n",
        "cards['CODE_GENDER'].replace('M',0,inplace=True) #male -> 0\n",
        "cards['CODE_GENDER'].replace('F',1,inplace=True)#female -> 1\n",
        "cards['FLAG_OWN_CAR'].replace('Y',0,inplace=True)\n",
        "cards['FLAG_OWN_CAR'].replace('N',1,inplace=True)\n",
        "cards['FLAG_OWN_REALTY'].replace('Y',0,inplace=True)\n",
        "cards['FLAG_OWN_REALTY'].replace('N',1,inplace=True)\n",
        "cards.head(4)"
      ],
      "metadata": {
        "id": "zF7gqkIP-Zou"
      },
      "execution_count": null,
      "outputs": []
    },
    {
      "cell_type": "markdown",
      "source": [],
      "metadata": {
        "id": "TsZ9cI31-VdI"
      }
    },
    {
      "cell_type": "code",
      "source": [
        "cards.columns"
      ],
      "metadata": {
        "id": "Bc1NYIpy0GcQ"
      },
      "execution_count": null,
      "outputs": []
    },
    {
      "cell_type": "code",
      "source": [
        "cards.describe()"
      ],
      "metadata": {
        "id": "66L_w2e40Roz"
      },
      "execution_count": null,
      "outputs": []
    },
    {
      "cell_type": "code",
      "source": [
        "value_counts = cards['STATUS'].value_counts()\n",
        "value_counts"
      ],
      "metadata": {
        "id": "-A4DtPyA0_Q2"
      },
      "execution_count": null,
      "outputs": []
    },
    {
      "cell_type": "code",
      "source": [
        "cards.NAME_HOUSING_TYPE.value_counts()"
      ],
      "metadata": {
        "id": "_AEgZms4AKSB"
      },
      "execution_count": null,
      "outputs": []
    },
    {
      "cell_type": "code",
      "source": [
        "cards.STATUS.value_counts()\n"
      ],
      "metadata": {
        "id": "oi27y_ZNANu5"
      },
      "execution_count": null,
      "outputs": []
    },
    {
      "cell_type": "markdown",
      "source": [
        "# Exploratory data analysis:"
      ],
      "metadata": {
        "id": "1GhBMzb47KaL"
      }
    },
    {
      "cell_type": "code",
      "source": [
        "import matplotlib.pyplot as plt\n",
        "\n",
        "\n",
        "# Plot the value counts as a bar graph\n",
        "value_counts.plot(kind='bar')\n",
        "\n",
        "# Show the graph\n",
        "plt.show()\n"
      ],
      "metadata": {
        "id": "pij7NQ3A3aLT"
      },
      "execution_count": null,
      "outputs": []
    },
    {
      "cell_type": "code",
      "source": [],
      "metadata": {
        "id": "Q5j8SVYq6h5E"
      },
      "execution_count": null,
      "outputs": []
    },
    {
      "cell_type": "code",
      "source": [
        "\n",
        "#Same numbers but in percentages\n",
        "\n",
        "value_counts = cards['STATUS'].value_counts(normalize=True)\n",
        "\n",
        "# Plot the value counts as a bar graph\n",
        "value_counts.plot(kind='bar')\n",
        "\n",
        "# Add a title to the graph\n",
        "plt.title('Percentages of Unique Values in \"STATUS\" Column')\n",
        "\n",
        "# Add a label to the y-axis\n",
        "plt.ylabel('Percentage')\n",
        "\n",
        "# Show the graph\n",
        "plt.show()"
      ],
      "metadata": {
        "id": "9oXxPs8B6Mlj"
      },
      "execution_count": null,
      "outputs": []
    },
    {
      "cell_type": "code",
      "source": [
        "# Compute the correlation matrix for all columns in the DataFrame\n",
        "cards.corr()"
      ],
      "metadata": {
        "id": "15yhwR-b7Twy"
      },
      "execution_count": null,
      "outputs": []
    },
    {
      "cell_type": "code",
      "source": [
        "# Compute the correlation matrix for all columns in the DataFrame\n",
        "corr_matrix = cards.corr()\n",
        "plt.figure(figsize=(10,10))\n",
        "\n",
        "# Plot the correlation matrix as a heatmap\n",
        "sns.heatmap(corr_matrix, cmap='coolwarm', annot=True)\n",
        "\n",
        "# Show the plot\n",
        "plt.show()"
      ],
      "metadata": {
        "id": "7y3YFFbl7UID"
      },
      "execution_count": null,
      "outputs": []
    },
    {
      "cell_type": "code",
      "source": [],
      "metadata": {
        "id": "GqXsD_GP8dnu"
      },
      "execution_count": null,
      "outputs": []
    },
    {
      "cell_type": "markdown",
      "source": [
        "# Model selection:"
      ],
      "metadata": {
        "id": "3_ctF4uEBfhi"
      }
    },
    {
      "cell_type": "code",
      "source": [
        "from sklearn.model_selection import train_test_split\n",
        "from sklearn.linear_model import LogisticRegression\n",
        "\n",
        "# Split the DataFrame into a training set and a testing set\n",
        "train_data, test_data, train_target, test_target = train_test_split(cards.drop('STATUS', axis=1), cards['STATUS'], test_size=0.2)\n",
        "\n",
        "# Train a logistic regression model on the training set\n",
        "model = LogisticRegression()\n",
        "model.fit(train_data, train_target)\n",
        "\n",
        "# Use the model to make predictions on the testing set\n",
        "predictions = model.predict(test_data)\n",
        "\n",
        "# Evaluate the performance of the model\n",
        "accuracy = accuracy_score(test_target, predictions)\n",
        "precision = precision_score(test_target, predictions)\n",
        "recall = recall_score(test_target, predictions)\n",
        "f1 = f1_score(test_target, predictions)\n",
        "\n",
        "# Print the evaluation results\n",
        "print(\"Accuracy:\", accuracy)\n",
        "print(\"Precision:\", precision)\n",
        "print(\"Recall:\", recall)\n",
        "print(\"F1 score:\", f1)"
      ],
      "metadata": {
        "id": "aKaLHxmYntNX"
      },
      "execution_count": null,
      "outputs": []
    },
    {
      "cell_type": "markdown",
      "source": [
        "# Model training"
      ],
      "metadata": {
        "id": "-FmJP0ufBjfz"
      }
    },
    {
      "cell_type": "markdown",
      "source": [
        "# Model evaluation"
      ],
      "metadata": {
        "id": "wBWGr913Bn0e"
      }
    },
    {
      "cell_type": "markdown",
      "source": [
        "# Model tuning"
      ],
      "metadata": {
        "id": "uH8WaacPBp1T"
      }
    },
    {
      "cell_type": "code",
      "source": [],
      "metadata": {
        "id": "vlnVt_vKBpTo"
      },
      "execution_count": null,
      "outputs": []
    }
  ]
}